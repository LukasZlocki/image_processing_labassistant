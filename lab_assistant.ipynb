{
 "cells": [
  {
   "cell_type": "code",
   "execution_count": null,
   "id": "eef37cf9-17d1-4bde-b804-bdb4be633ab9",
   "metadata": {},
   "outputs": [],
   "source": [
    "# Library preparation\n",
    "import cv2\n",
    "import numpy as np\n",
    "import matplotlib.pyplot as pl"
   ]
  },
  {
   "cell_type": "code",
   "execution_count": null,
   "id": "fc30ad33-237f-4921-a954-52cd24d03cdb",
   "metadata": {},
   "outputs": [],
   "source": [
    "# loading samples\n",
    "img1 = cv2.imread('')\n",
    "\n"
   ]
  },
  {
   "cell_type": "code",
   "execution_count": null,
   "id": "ce282c32-f432-494a-a217-2c42ca428376",
   "metadata": {},
   "outputs": [],
   "source": [
    "# Transfering samples to gray colors\n",
    "def image_to_gray(img):\n",
    "    \"\"\"\n",
    "    Transfer given image to gray\n",
    "\n",
    "    Parameters:\n",
    "    img (ndarray): Image\n",
    "\n",
    "    Returns: ndarray: Image converted to gray scale\n",
    "    \"\"\"\n",
    "    return cv2.cvtColor(img, cv2.COLOR_BGR2GRAY)\n",
    "\n"
   ]
  },
  {
   "cell_type": "code",
   "execution_count": null,
   "id": "b8388758-efa5-4907-9ab7-a14f4f628b61",
   "metadata": {},
   "outputs": [],
   "source": []
  }
 ],
 "metadata": {
  "kernelspec": {
   "display_name": "Python 3 (ipykernel)",
   "language": "python",
   "name": "python3"
  },
  "language_info": {
   "codemirror_mode": {
    "name": "ipython",
    "version": 3
   },
   "file_extension": ".py",
   "mimetype": "text/x-python",
   "name": "python",
   "nbconvert_exporter": "python",
   "pygments_lexer": "ipython3",
   "version": "3.12.3"
  }
 },
 "nbformat": 4,
 "nbformat_minor": 5
}
