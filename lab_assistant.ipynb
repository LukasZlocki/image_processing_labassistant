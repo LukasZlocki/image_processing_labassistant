{
 "cells": [
  {
   "cell_type": "code",
   "execution_count": null,
   "id": "eef37cf9-17d1-4bde-b804-bdb4be633ab9",
   "metadata": {},
   "outputs": [],
   "source": [
    "# Library preparation\n",
    "import cv2\n",
    "import numpy as np\n",
    "import matplotlib.pyplot as pl"
   ]
  },
  {
   "cell_type": "code",
   "execution_count": null,
   "id": "fc30ad33-237f-4921-a954-52cd24d03cdb",
   "metadata": {},
   "outputs": [],
   "source": [
    "# loading samples\n",
    "img1 = cv2.imread('')\n",
    "\n"
   ]
  },
  {
   "cell_type": "code",
   "execution_count": null,
   "id": "ce282c32-f432-494a-a217-2c42ca428376",
   "metadata": {},
   "outputs": [],
   "source": [
    "# Base image transfering functions\n",
    "\n",
    "# Transfering samples to gray colors\n",
    "def image_to_gray(img):\n",
    "    \"\"\"\n",
    "    Transfer given image to gray\n",
    "\n",
    "    Parameters:\n",
    "    img (ndarray): Image\n",
    "\n",
    "    Returns: \n",
    "    ndarray: Image converted to gray scale\n",
    "    \"\"\"\n",
    "    return cv2.cvtColor(img, cv2.COLOR_BGR2GRAY)\n",
    "\n",
    "# Transfer image to binary image\n",
    "def image_to_binary(img):\n",
    "    \"\"\"\n",
    "    Transfer given image to binary image\n",
    "\n",
    "    Parameters:\n",
    "    img (ndarray): Image\n",
    "\n",
    "    Returns: \n",
    "    ndarray: Image converted to binary image\n",
    "    \"\"\"\n",
    "    return cv2.threshold(img, 127,255, cv2.THRESH_BINARY)\n",
    "\n",
    "# Gamma correction\n",
    "def image_gamma_correction(img, c, gamma):\n",
    "    \"\"\"\n",
    "    Add gamma correction to given image\n",
    "\n",
    "    Parameters: \n",
    "    img (ndarray): Input image as a numpy array, where pixel values range from 0 to 255. \n",
    "    c (float): Constant multiplier, typically set to 1 for standard gamma correction. \n",
    "    gamma (float): Gamma value for the correction. Values >1 darken the image, while values <1 lighten it. \n",
    "    \n",
    "    Returns: \n",
    "    ndarray: Gamma corrected image with pixel values ranging form 0 to 255.\n",
    "    \"\"\"\n",
    "    img_corrected = c * (img / 255.0) ** gamma\n",
    "    img_corrected = np.clip(img_corrected * 255.0, 0, 255).astype(np.uint8)\n",
    "    return img_corrected"
   ]
  },
  {
   "cell_type": "code",
   "execution_count": null,
   "id": "b8388758-efa5-4907-9ab7-a14f4f628b61",
   "metadata": {},
   "outputs": [],
   "source": [
    "# Image filtering functions\n",
    "\n"
   ]
  }
 ],
 "metadata": {
  "kernelspec": {
   "display_name": "Python 3 (ipykernel)",
   "language": "python",
   "name": "python3"
  },
  "language_info": {
   "codemirror_mode": {
    "name": "ipython",
    "version": 3
   },
   "file_extension": ".py",
   "mimetype": "text/x-python",
   "name": "python",
   "nbconvert_exporter": "python",
   "pygments_lexer": "ipython3",
   "version": "3.12.3"
  }
 },
 "nbformat": 4,
 "nbformat_minor": 5
}
